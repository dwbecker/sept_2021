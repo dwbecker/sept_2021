{
 "cells": [
  {
   "cell_type": "code",
   "execution_count": 1,
   "id": "f2309210",
   "metadata": {},
   "outputs": [],
   "source": [
    "DIGIT_MAP = {\n",
    "    'zero': '0',\n",
    "    'one': '1',\n",
    "    'two': '2',\n",
    "    'three': '3',\n",
    "    'four': '4',\n",
    "    'five': '5',\n",
    "    'six': '6',\n",
    "    'seven': '7',\n",
    "    'eight': '8',\n",
    "    'nine': '9',    \n",
    "}\n",
    "\n",
    "def convert(s):\n",
    "    try:\n",
    "        number = ''\n",
    "        for token in s:\n",
    "            number += DIGIT_MAP[token]\n",
    "        x = int(number)\n",
    "        print(f\"Conversion succeeded! x = {x}\")\n",
    "    except KeyError:\n",
    "        x = -1\n",
    "    return x"
   ]
  },
  {
   "cell_type": "code",
   "execution_count": null,
   "id": "e6d5aaa2",
   "metadata": {},
   "outputs": [],
   "source": [
    "\"\"\"keypress - A module for detechting a single keypress.\"\"\"\n",
    "\n",
    "try:\n",
    "    import msvcrt\n",
    "    \n",
    "    def getkey():\n",
    "        \"\"\"Wait for a keypress and return a single character string.\"\"\"\n",
    "        return msvcrt.getch()\n",
    "\n",
    "except ImportError:\n",
    "    \n",
    "    import sys\n",
    "    import tty\n",
    "    import termios\n",
    "    \n",
    "    def getkey():\n",
    "        \"\"\"Wait for a keypress and return a single character string.\"\"\"\n",
    "        fd = sys.stdin.fileno()\n",
    "        original_attributes = termios.tcgetattr(fd)\n",
    "        try:\n",
    "            tty.setraw(sys.stdin.fileno())\n",
    "            ch = sys.stdin.read(1)\n",
    "        finally:\n",
    "            termios.tcsetattr(fd, termios.TCSADRAIN, original_attributes)\n",
    "        return ch"
   ]
  },
  {
   "cell_type": "code",
   "execution_count": null,
   "id": "dbebc4eb",
   "metadata": {},
   "outputs": [],
   "source": []
  }
 ],
 "metadata": {
  "kernelspec": {
   "display_name": "Python 3",
   "language": "python",
   "name": "python3"
  },
  "language_info": {
   "codemirror_mode": {
    "name": "ipython",
    "version": 3
   },
   "file_extension": ".py",
   "mimetype": "text/x-python",
   "name": "python",
   "nbconvert_exporter": "python",
   "pygments_lexer": "ipython3",
   "version": "3.8.8"
  }
 },
 "nbformat": 4,
 "nbformat_minor": 5
}
